{
 "cells": [
  {
   "cell_type": "markdown",
   "id": "fb30aa5ad95f19e1",
   "metadata": {},
   "source": [
    "# Introduction\n",
    "Minimal intro to use the data cubes and the underlying hydrodynamical simulation (via scida).\n"
   ]
  },
  {
   "cell_type": "code",
   "execution_count": null,
   "id": "d35648c41ebb2026",
   "metadata": {},
   "outputs": [],
   "source": [
    "%load_ext autoreload\n",
    "%autoreload 2"
   ]
  },
  {
   "cell_type": "code",
   "execution_count": null,
   "id": "5bd07fe31aa82229",
   "metadata": {},
   "outputs": [],
   "source": [
    "import numpy as np\n",
    "import matplotlib.pyplot as plt\n",
    "import pathlib\n",
    "import h5py"
   ]
  },
  {
   "cell_type": "code",
   "execution_count": null,
   "id": "781307d3eb80fb9e",
   "metadata": {},
   "outputs": [],
   "source": [
    "# for demonstration, use the low-res run of TNG50\n",
    "# path to TNG simulation snapshot, make sure the groups_033 is in the same parent folder\n",
    "path_snapshot = pathlib.Path(\"~/data/LyaLab/TNG50-4_z2/snapdir_033\").expanduser()\n",
    "# the Lya cube\n",
    "path_lyacube = pathlib.Path(\"~/data/LyaLab/LyaCube_z2_v1d71da608.hdf5\").expanduser()"
   ]
  },
  {
   "cell_type": "markdown",
   "id": "641525e4afdffd6a",
   "metadata": {},
   "source": [
    "## Lya data\n",
    "### Lya emission\n",
    "We provide uniform grids of the emission field as hdf5 files with the following structure. For example:\n",
    "\n",
    "> ```text\n",
    "> (bash) h5glance LyaCube_z2_v1d71da608.hdf5 --attrs\n",
    "> LyaCube_z2_v1d71da608.hdf5\n",
    "> ├6 attributes:\n",
    "> │ ├author: 'Chris Byrohl <chris.byrohl@uni-heidelberg.de>'\n",
    "> │ ├depth_angstrom: 42.69206657037045\n",
    "> │ ├publication: 'Byrohl & Nelson 23,....org/abs/2212.08666'\n",
    "> │ ├simulation series: 'TNG50_z2_rev2_fesc_v2'\n",
    "> │ ├units: 'luminosity density in erg/s/pMpc^3'\n",
    "> │ └width_arcsec: 2005.002916504041\n",
    "> └maps\n",
    ">   ├TNG50_total\t[float64: 21 × 4010 × 4010]\n",
    ">   ├TNG50_z2_rev2_SFR_fesc_v2\t[float64: 21 × 4010 × 4010]\n",
    ">   ├TNG50_z2_rev2_exc\t[float64: 21 × 4010 × 4010]\n",
    ">   └TNG50_z2_rev2_rec\t[float64: 21 × 4010 × 4010]\n",
    "> ```\n",
    "\n",
    "The line of sight direction for photon propagation is along the x-axis. Note that this implies the observer is looking into the -x direction.\n",
    "\n",
    "Given above metadata, we have a spectral resolution of roughly 2 Angstrom (rest-frame) and an angular resolution of roughly 0.5 arcseconds per element.\n",
    "\n",
    "The emission fields are given in the \"maps\" group. Commonly, we give separate fields for the respective emission channel (after radiative transfer). In above example, we have the luminosity contributions from star-formation, diffuse recombinations and diffuse collisions (and their total)."
   ]
  },
  {
   "cell_type": "markdown",
   "id": "6798f49a61737130",
   "metadata": {},
   "source": [
    "#### Simple visualization\n",
    "Plotting a *luminosity density* slice with 2 Angstrom depth."
   ]
  },
  {
   "cell_type": "code",
   "execution_count": null,
   "id": "2f77ce3ef094f0a6",
   "metadata": {},
   "outputs": [],
   "source": [
    "with h5py.File(path_lyacube, \"r\") as f:\n",
    "    shape = f[\"maps/TNG50_total\"].shape\n",
    "    # slice at the center\n",
    "    slc = f[\"maps/TNG50_total\"][shape[0]//2][:]\n",
    "    width_arcsec = f.attrs[\"width_arcsec\"]\n",
    "\n",
    "extent = [-width_arcsec/2, width_arcsec/2, -width_arcsec/2, width_arcsec/2]\n",
    "pmin = np.percentile(slc, 1)\n",
    "pmax = np.percentile(slc, 99.9)\n",
    "plt.imshow(slc.T, origin=\"lower\", norm=\"log\", vmin=pmin, vmax=pmax, extent=extent)\n",
    "plt.xlabel(\"arcsec\")\n",
    "plt.ylabel(\"arcsec\")\n",
    "plt.colorbar(label=r\"luminosity density [erg/s/pMpc$^3$]\")\n",
    "plt.show()"
   ]
  },
  {
   "cell_type": "markdown",
   "id": "3169d3f644f70850",
   "metadata": {},
   "source": [
    "#### Plotting a *surface brightness* slice with 6 Angstrom depth"
   ]
  },
  {
   "cell_type": "code",
   "execution_count": null,
   "id": "c39f5fea55dcbe64",
   "metadata": {},
   "outputs": [],
   "source": [
    "with h5py.File(path_lyacube, \"r\") as f:\n",
    "    shape = f[\"maps/TNG50_total\"].shape\n",
    "    # slice at the center\n",
    "    idx = shape[0]//2\n",
    "    slc = f[\"maps/TNG50_total\"][idx:idx+3, :, :].sum(axis=0)\n",
    "    width_arcsec = f.attrs[\"width_arcsec\"]"
   ]
  },
  {
   "cell_type": "code",
   "execution_count": null,
   "id": "aae1da79336f060a",
   "metadata": {},
   "outputs": [],
   "source": [
    "from astropy.cosmology import Planck15\n",
    "from lyalab.units import lumdens_to_sb\n",
    "factor = lumdens_to_sb(shape).value\n",
    "slc_sb = slc * factor\n",
    "\n",
    "pmin = 1e-24\n",
    "pmax = 1e-18\n",
    "plt.imshow(slc_sb.T, origin=\"lower\", norm=\"log\", vmin=pmin, vmax=pmax, extent=extent)\n",
    "plt.xlabel(\"arcsec\")\n",
    "plt.ylabel(\"arcsec\")\n",
    "plt.colorbar(label=r\"luminosity density [arcsec$^2$ erg/s/cm$^2$]\")\n",
    "plt.show()\n",
    "\n"
   ]
  },
  {
   "cell_type": "markdown",
   "id": "9ae3c55db874d9d5",
   "metadata": {},
   "source": [
    "## Load complementary data via scida\n",
    "We can conveniently access the underlying hydrodynamical simulation data, such as gas and galaxy properties, via [scida](https://scida.io).\n",
    "In the following, we overplot galaxies with stellar masses above $\\sim 10^{9.5} M_\\odot$ within the slice."
   ]
  },
  {
   "cell_type": "code",
   "execution_count": null,
   "id": "ed0f63efe16be12d",
   "metadata": {},
   "outputs": [],
   "source": [
    "from scida import load\n",
    "ds = load(path_snapshot)\n",
    "halos = ds.data[\"Group\"]\n",
    "gals = ds.data[\"Subhalo\"]\n",
    "gas = ds.data[\"PartType0\"]\n",
    "\n",
    "smass = gals[\"SubhaloMassInRadType\"][:,4].to(\"Msun\").compute()\n",
    "smass = smass.magnitude  # remove attached Msun unit\n",
    "pos = gals[\"SubhaloPos\"].compute().magnitude / ds.header[\"BoxSize\"]\n",
    "mask = pos[:,0] > (1.0 / shape[0]) * idx\n",
    "mask &= pos[:,0] < (1.0 / shape[0]) * (idx+3)  # depth from last slice\n",
    "mask &= smass > 3e9\n",
    "\n",
    "pos = pos[mask] * width_arcsec - width_arcsec/2\n",
    "smass = smass[mask]\n",
    "\n",
    "plt.imshow(slc_sb.T, origin=\"lower\", norm=\"log\", vmin=pmin, vmax=pmax, extent=extent)\n",
    "plt.colorbar(label=r\"surface brightness [erg/s/cm$^2$/arcsec$^2$]\")\n",
    "plt.scatter(pos[:,1], pos[:,2], c=np.log10(smass), s=10, cmap=\"Reds\")\n",
    "plt.xlabel(\"arcsec\")\n",
    "plt.ylabel(\"arcsec\")\n",
    "plt.show()\n"
   ]
  }
 ],
 "metadata": {
  "kernelspec": {
   "display_name": "Python 3 (ipykernel)",
   "language": "python",
   "name": "python3"
  },
  "language_info": {
   "codemirror_mode": {
    "name": "ipython",
    "version": 3
   },
   "file_extension": ".py",
   "mimetype": "text/x-python",
   "name": "python",
   "nbconvert_exporter": "python",
   "pygments_lexer": "ipython3",
   "version": "3.11.7"
  }
 },
 "nbformat": 4,
 "nbformat_minor": 5
}
